{
 "cells": [
  {
   "cell_type": "markdown",
   "metadata": {},
   "source": [
    "# Control 1 INFO273-2021\n",
    "\n",
    "### Pregunta 1 (4 puntos)\n",
    "Se tienen trazas de la carga de trabajo en un cluster de servidores, de las cuales se ha extraído una muestra representativa de 20 trabajos, considerando por cada trabajo las principales medidas de uso de recursos del cluster.  La tabla \"datosCarga.csv\"  presenta los porcentajes de uso de procesador, memoria y entrada/salida de la muestra de 20 trabajos.\n",
    "Se trata de caracterizar la carga de trabajo utilizando la distancia euclídea como métrica de agrupamiento.\n",
    "Para ello se solicita:\n",
    "\n",
    "(i) Realizar el agrupamiento considerando la función hclust de R. Justifique los parámetros utilizados.\n",
    "\n",
    "(ii) A partir del dendograma y los datos originales, decidir el número de grupos que es representativo de los distintos tipos de trabajos. Explique su decisión. \n",
    "\n",
    "(iii) Realizar un análisis de componentes principales con los datos  ¿Es representativo de los datos el primer plano principal? Justifique su respuesta.\n",
    "\n",
    "(iv) Representar los grupos definidos en (ii) en el primer plano principal. Calcular los valores medios en cada grupo y realizar una interpretación de cada uno. ¿Se valida la decisión tomada en (ii)?\n",
    "\n"
   ]
  },
  {
   "cell_type": "code",
   "execution_count": 21,
   "metadata": {},
   "outputs": [
    {
     "data": {
      "text/plain": [
       "      CPU              Mem_usada        Mem_asignada        Mem_max       \n",
       " Min.   :0.0003004   Min.   :0.06787   Min.   :0.07556   Min.   :0.06787  \n",
       " 1st Qu.:0.0005043   1st Qu.:0.08044   1st Qu.:0.08936   1st Qu.:0.08044  \n",
       " Median :0.0020430   Median :0.08600   Median :0.09680   Median :0.08667  \n",
       " Mean   :0.0134421   Mean   :0.08326   Mean   :0.09403   Mean   :0.08376  \n",
       " 3rd Qu.:0.0344550   3rd Qu.:0.08731   3rd Qu.:0.09912   3rd Qu.:0.08862  \n",
       " Max.   :0.0384500   Max.   :0.09106   Max.   :0.10110   Max.   :0.09106  \n",
       "    CPU_max             Disco          \n",
       " Min.   :0.005112   Min.   :0.0002146  \n",
       " 1st Qu.:0.016178   1st Qu.:0.0004818  \n",
       " Median :0.026745   Median :0.0009642  \n",
       " Mean   :0.055023   Mean   :0.0137614  \n",
       " 3rd Qu.:0.109675   3rd Qu.:0.0244625  \n",
       " Max.   :0.135300   Max.   :0.0715300  "
      ]
     },
     "metadata": {},
     "output_type": "display_data"
    },
    {
     "data": {
      "image/png": "[encoded data removed]",
      "text/plain": [
       "plot without title"
      ]
     },
     "metadata": {},
     "output_type": "display_data"
    }
   ],
   "source": [
    "#ruta datos\n",
    "#lee datos del archivo de texto como una matriz. La primera #fila se utiliza \n",
    "#como vector de nombres de las columnas\n",
    "datos <-read.table(\"datosCarga.csv\",dec=\".\",sep=\";\",header=TRUE)\n",
    "summary(datos)\n",
    "boxplot(datos)\n",
    "\n"
   ]
  },
  {
   "cell_type": "markdown",
   "metadata": {},
   "source": [
    "### Pregunta 2 (2 puntos)\n",
    "\n",
    "i) Explique brevemente los conceptos de  monitoreo y benchmark de sistemas computacionales. Indique sus principales características y diferencias.\n",
    "\n",
    "ii) Para las herramientas que estudió en el taller de la unidad (tanto la que presentó como la que usó en el taller), realice un cuadro resumen que incluya principales características, ventajas y desventajas y  ámbitos de aplicación\n"
   ]
  },
  {
   "cell_type": "code",
   "execution_count": null,
   "metadata": {},
   "outputs": [],
   "source": []
  }
 ],
 "metadata": {
  "celltoolbar": "Raw Cell Format",
  "kernelspec": {
   "display_name": "R",
   "language": "R",
   "name": "ir"
  },
  "language_info": {
   "codemirror_mode": "r",
   "file_extension": ".r",
   "mimetype": "text/x-r-source",
   "name": "R",
   "pygments_lexer": "r",
   "version": "3.6.1"
  }
 },
 "nbformat": 4,
 "nbformat_minor": 2
}
