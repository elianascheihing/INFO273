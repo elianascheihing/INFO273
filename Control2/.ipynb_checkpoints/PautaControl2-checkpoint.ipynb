{
 "cells": [
  {
   "cell_type": "markdown",
   "metadata": {},
   "source": [
    "## Pauta Control 2 INFO273. Redes de Colas\n",
    "Utilice papel y lápiz para los desarrollos teóricos, les toma una foto y los incorpora como imagen en este notebook.\n",
    "Para las partes que requieren cáculos matemáticos utilice código incrustado (en R o Python según sea su conveniencia).\n",
    "Suba la carpeta comprimida con sus respuestas al espacio definido en siveducMD."
   ]
  },
  {
   "cell_type": "markdown",
   "metadata": {},
   "source": [
    "**1.** Un sistema informático está compuesto por dos estaciones de trabajo monoprocesadoras idénticas, conectadas entre sí. A la estación $1$ llegan trabajos originads fuera del sistema, según un flujo de Poisson de tasa $\\gamma$. Cada vez que se termina la ejecución de un proceso en la estación 1, con probabilidad $0.9$ se genera un nuevo proceo en la estació $2$. En \n",
    "los casos restantes, el proceso termina sin crear nuevos procesos \"hijos\". A su vez, cuando un proceso termina su ejecución en la estación $2$, puede crear otro hijo en la estación $1$ con probabilidad $0.1$ o extinguirse completamente en otro caso. Sabiendo que el tiempo de ejecución de los procesos en ambas máquinas se distribuye exponencial de tasa $\\mu$, se pide:\n",
    "\n",
    "**(a)** Dibuje el grafo de la red y deduzca expresiones para las tasas de proceso de cada nodo. Considere el parámetro:\n",
    "$$\\rho = \\frac{\\gamma}{\\mu}$$\n",
    "Determine condiciones sobre $\\rho$ de manera que esta red de colas se encuentre en equilibrio.\n",
    "\n",
    "**(b)** Suponga $\\rho=0.9 \\text { y }\\gamma = 5 [tr/s]$. Calcule el número promedio de procesos totales en cada estación de trabajo y el tiempo que transcurre desde que llega un proceso a la estación $1$ hasta que él y todos sus descendientes se extinguen.\n",
    "\n",
    "**(c)** ¿Cuál es el dispositivo cuello de botella?. Suponga que se mejora ese dispositivo, disminuyendo su tiempo medio de servicio a la mitad. Calcule nuevamente las medidas de desempeño del sistema y comente.\n"
   ]
  },
  {
   "cell_type": "markdown",
   "metadata": {},
   "source": [
    "**Respuesta:**\n",
    "**(a)** El grafo de la red es:\n",
    "\n",
    "<img src=\"modelo7.png\" width=\"400\">\n",
    "\n",
    "y las ecuaciones de balance de flujo quedan:\n",
    "\n",
    "$$\\lambda_1 = \\gamma  + 0.1 \\lambda_2$$\n",
    "$$\\lambda_2 = 0.9 \\lambda_1$$\n",
    "\n",
    "resolviendo el sistema de ecuaciones:\n",
    "$$\\lambda_1 (1-0.1*0.9) = \\gamma \\implies \\lambda_1 = \\frac{\\gamma}{0.91}\n",
    "\\implies \\lambda_2 = \\frac{0.9 \\gamma}{0.91} = \\frac{90\\gamma}{91}$$\n",
    "\n",
    "Para que exista equilibrio, es necesario que se cumpla simultáneamente:\n",
    "\n",
    "$$\\rho_1 < 1 \\qquad\\text{ y }\\qquad \\rho_2 < 1$$\n",
    "\n",
    "Esto es:\n",
    "$$\\rho_1 =\\frac{\\lambda_1}{\\mu_1} = \\frac{\\gamma}{0.91 \\mu} < 1 \\implies \\rho=\\frac{\\gamma}{\\mu} < 0.91$$\n",
    "\n",
    "y \n",
    "\n",
    "$$\\rho_2 =\\frac{\\lambda_2}{\\mu_2} = \\frac{90\\gamma}{91\\mu} < 1 \\implies \\rho=\\frac{\\gamma}{\\mu} < \\frac{91}{90} = 1.0111$$\n",
    "\n",
    "Con lo cual, la condición sobre $\\rho$ es $$\\rho < 0.91$$\n"
   ]
  },
  {
   "cell_type": "markdown",
   "metadata": {},
   "source": [
    "**(b)** Sea $\\rho=0.9$ y $\\gamma= 5[tr/s]$, entonces:\n",
    "\n",
    "$$\\rho_1 = \\frac{\\rho}{0.91} = \\frac{0.9}{0.91}= 0.989 \\implies L_1 = \\frac{\\rho_1}{1-\\rho_1} =  \\frac{0.989}{0.011}= 89.9$$\n",
    "\n",
    "\n",
    "$$\\rho_2 = \\frac{90\\rho}{91} = \\frac{81}{91}= 0.89 \\implies L_2 = \\frac{\\rho_2}{1-\\rho_2} =  \\frac{0.89}{0.11}= 8.09$$\n",
    "\n",
    "Y entonces \n",
    "\n",
    "$$ R = \\frac{L_1 + L_2}{\\gamma} = \\frac{89.9+8.09}{5} =  \\frac{97.99}{5}= 19.598[s]$$"
   ]
  },
  {
   "cell_type": "markdown",
   "metadata": {},
   "source": [
    "**(c)** La estación de trabajo 1 es el cuello de botella pues es la de mayor utilización.\n",
    "Si disminuye su tiempo de servicio a la mitad, entonces $\\mu_1 = 2\\mu$ con  $\\mu = \\frac{\\gamma}{\\rho}= \\frac{5}{0.9} [tr/s]$ \n",
    "\n",
    "De esta forma,\n",
    "\n",
    "$$\\lambda_1 = \\frac{\\gamma}{0.91} = \\frac{5}{0.91}[tr/s] , \\mu_1 =  \\frac{10}{0.9}[tr/s] \\implies\n",
    "\\rho_1 = \\frac{\\lambda_1}{\\mu_1} = \\frac{500*9}{91*10*10}= \\frac{45}{91}= 0.4945 $$\n",
    "\n",
    "De manera que:\n",
    "\n",
    "$$L_1 = \\frac{\\rho_1}{1-\\rho_1} =  \\frac{0.4945}{0.5055}= 0.978 \\implies R = \\frac{0.978 + 8.09}{5} = 1.814[s]$$\n",
    "\n",
    "La disminución en el tiempo de servicio disminuye drásticamente el tiempo de respuesta, mucho mas que proporcionalemente, debido a la retroalimentación de la red."
   ]
  },
  {
   "cell_type": "markdown",
   "metadata": {},
   "source": [
    "**2.** Considere un sistema cliente-servidor en que $K=10$  clientes  se conectan a una base de datos mediante una red Ethernet. El servidor se representa por un nodo con tasa de servicio $\\mu_3 = 6[s^{-1}]$. El nodo 2 representa la red Ethernet cuya tasa de servicio $\\mu_2 = 42[req/s]$ con una retroalimentación del 10% modelando la tasa de fallos.  La tasa media de reflexión de los clientes (Nodo 1) es $\\mu_1 = 1[s^{-1}]$ \n",
    "\n",
    "Modele este sistema como una red de colas cerradas en que suponemos tiempos de servicio exponencial en cada nodo y las siguientes probabilidades de ruteo:\n",
    "\n",
    "$$q_{12} = 1 \\qquad q_{32}=1 $$\n",
    "\n",
    "$$q_{21} = 0.4 \\qquad q_{22}= 0.1 \\qquad q_{23} = 0.5$$\n",
    "\n",
    "**(a)** Dibuje la red de colas y el grafo asociado y resuelva las ecs. de balance de flujo.\n",
    "\n",
    "**(b)** Determine todas las medidas de desempeño de la red con alguno de los métodos que conoce.\n",
    "\n",
    "**(c)** Suponga que el número de estaciones de trabajo (clientes) en el sistema es variable, con $k=2,11, ...30$.  Grafique el comportamiento de la tasa de proceso del sistema en función de $k$. Comente.\n"
   ]
  },
  {
   "cell_type": "markdown",
   "metadata": {},
   "source": [
    "**(a)** La red de colas queda:\n",
    "\n",
    "<img src=\"modelo8.png\" width=\"400\">\n",
    "\n",
    "\n",
    "y el grafo de la red es:\n",
    "\n",
    "<img src=\"modelo8a.png\" width=\"400\">\n",
    "\n",
    "Con lo cual, las ecuaciones de balance de flujo son:\n",
    "$$\\lambda_1 = 0.4 \\lambda_2$$\n",
    "$$\\lambda_2 = \\lambda_1 + 0.1 \\lambda_2 + \\lambda_3$$\n",
    "$$\\lambda_3 = 0.5 \\lambda_2$$\n",
    "\n",
    "Una solución posible es:\n",
    "$$\\lambda_1 = 0.4, \\lambda_2=1, \\lambda_3 = 0.5$$"
   ]
  },
  {
   "cell_type": "markdown",
   "metadata": {},
   "source": [
    "**(b)** Utilizaremos el algoritmo del valor medio. Para ello se requiere transformar la red cerrada en una abierta equivalente:\n",
    "\n",
    "<img src=\"modelo8b.png\" width=\"400\">\n",
    "\n",
    "con lo cual, resulta:\n",
    "\n",
    "$$v_0 = 1 = v_1 \\implies v_2 = \\frac{1}{0.4} = 2.5, v_3 = 2.5*0.5 = 1.25$$\n"
   ]
  },
  {
   "cell_type": "code",
   "execution_count": 1,
   "metadata": {},
   "outputs": [
    {
     "name": "stdout",
     "output_type": "stream",
     "text": [
      "            [,1]         [,2]        [,3]\n",
      " [1,] 0.00839346 7.209070e-01 0.023174598\n",
      " [2,] 0.04028850 2.029087e-01 0.043567933\n",
      " [3,] 0.09669153 5.614966e-02 0.074272849\n",
      " [4,] 0.15470155 1.506548e-02 0.113302002\n",
      " [5,] 0.18562125 3.839052e-03 0.152135387\n",
      " [6,] 0.17812714 9.029673e-04 0.176025661\n",
      " [7,] 0.14230781 1.887390e-04 0.170529573\n",
      " [8,] 0.09711713 3.331482e-05 0.132728254\n",
      " [9,] 0.05729300 4.611232e-06 0.077777846\n",
      "[10,] 0.02873201 4.411934e-07 0.030490560\n",
      "[11,] 0.01072662 2.173367e-08 0.005995335\n",
      "          [,1]        [,2]      [,3]\n",
      "L    4.6887619  0.38168220 4.9295559\n",
      "U    0.9916065  0.27909297 0.9768254\n",
      "tasa 4.6887619 11.72190482 5.8609524\n",
      "R    1.0000000  0.03256145 0.8410844\n"
     ]
    }
   ],
   "source": [
    "K=10\n",
    "M=3\n",
    "L <- rep(0,M)\n",
    "R <- rep(0,M)\n",
    "U <- rep(0,M)\n",
    "u <- c(1,42,6)\n",
    "v <- c(1,2.5,1.25)\n",
    "prob <- matrix(1,nrow=K+1,ncol=M)\n",
    "nprob <- matrix(1,nrow=K+1,ncol=M)\n",
    "# Cálculo de mu_i(j), i=1,2,3,4 y j=1,...K\n",
    "mu <- matrix(0,nrow=K,ncol=M)\n",
    "mu[1,] <- u\n",
    "for (k in 2:K){\n",
    "    mu[k,]<- c(u[1]*k,u[2],u[3])\n",
    "}\n",
    "\n",
    "#algoritmo iterativo para calcular R, T, L y U\n",
    "for (k in 1:K){   \n",
    "    R <- rep(0,M)  \n",
    "    for (j in 1:k){\n",
    "        R <- R + (prob[j,]*rep(j,M)/mu[j,])\n",
    "    }\n",
    "    T <- k/(t(v)%*%R)\n",
    "    L <- rep(0,M)\n",
    "    sum <- rep(0,M)\n",
    "    for (j in 1:k){\n",
    "        nprob[j+1,] <- rep(T,M)*(v/mu[j,])*prob[j,]\n",
    "        sum <- sum + nprob[j+1,]\n",
    "        L <- L + rep(j,M)*nprob[j+1,]\n",
    "    }\n",
    "    U <- sum\n",
    "    nprob[1,] <- rep(1,M) - U\n",
    "    prob <- nprob  \n",
    "}\n",
    "print(prob)\n",
    "tasa = rep(T,M)*v\n",
    "print(rbind(L,U,tasa,R))"
   ]
  },
  {
   "cell_type": "code",
   "execution_count": 4,
   "metadata": {},
   "outputs": [
    {
     "name": "stdout",
     "output_type": "stream",
     "text": [
      "[1] 2.00000000 1.53270227 0.92825631 0.09123228 0.31931297\n",
      "[1] 3.0000000 2.2205819 0.9662437 0.1321775 0.4626212\n",
      "[1] 4.0000000 2.8395218 0.9799352 0.1690192 0.5915670\n",
      "[1] 5.0000000 3.3764854 0.9858665 0.2009813 0.7034344\n",
      "[1] 6.0000000 3.8206961 0.9887457 0.2274224 0.7959784\n",
      "[1] 7.0000000 4.1668692 0.9902290 0.2480279 0.8680978\n",
      "[1] 8.0000000 4.4179943 0.9910064 0.2629759 0.9204155\n",
      "[1] 9.0000000 4.5859125 0.9914074 0.2729710 0.9553984\n",
      "[1] 10.0000000  4.6887619  0.9916065  0.2790930  0.9768254\n",
      "[1] 11.0000000  4.7463566  0.9917003  0.2825212  0.9888243\n",
      "[1] 12.0000000  4.7759083  0.9917420  0.2842803  0.9949809\n",
      "[1] 13.0000000  4.7898734  0.9917594  0.2851115  0.9978903\n",
      "[1] 14.0000000  4.7959931  0.9917663  0.2854758  0.9991652\n",
      "[1] 15.0000000  4.7984985  0.9917689  0.2856249  0.9996872\n",
      "[1] 16.0000000  4.7994640  0.9917698  0.2856824  0.9998883\n",
      "[1] 17.0000000  4.7998166  0.9917701  0.2857034  0.9999618\n",
      "[1] 18.0000000  4.7999395  0.9917702  0.2857107  0.9999874\n",
      "[1] 19.0000000  4.7999807  0.9917702  0.2857131  0.9999960\n",
      "[1] 20.0000000  4.7999940  0.9917702  0.2857139  0.9999987\n",
      "[1] 21.0000000  4.7999982  0.9917703  0.2857142  0.9999996\n",
      "[1] 22.0000000  4.7999995  0.9917703  0.2857143  0.9999999\n",
      "[1] 23.0000000  4.7999998  0.9917703  0.2857143  1.0000000\n",
      "[1] 24.0000000  4.8000000  0.9917703  0.2857143  1.0000000\n",
      "[1] 25.0000000  4.8000000  0.9917703  0.2857143  1.0000000\n",
      "[1] 26.0000000  4.8000000  0.9917703  0.2857143  1.0000000\n",
      "[1] 27.0000000  4.8000000  0.9917703  0.2857143  1.0000000\n",
      "[1] 28.0000000  4.8000000  0.9917703  0.2857143  1.0000000\n",
      "[1] 29.0000000  4.8000000  0.9917703  0.2857143  1.0000000\n",
      "[1] 30.0000000  4.8000000  0.9917703  0.2857143  1.0000000\n"
     ]
    },
    {
     "data": {
      "image/png": "[encoded data removed]",
      "text/plain": [
       "plot without title"
      ]
     },
     "metadata": {
      "image/png": {
       "height": 420,
       "width": 420
      },
      "text/plain": {
       "height": 420,
       "width": 420
      }
     },
     "output_type": "display_data"
    }
   ],
   "source": [
    "tasa <- rep(0,30)\n",
    "for (K in 2:30){\n",
    "M=3\n",
    "L <- rep(0,M)\n",
    "R <- rep(0,M)\n",
    "U <- rep(0,M)\n",
    "u <- c(1,42,6)\n",
    "v <- c(1,2.5,1.25)\n",
    "prob <- matrix(1,nrow=K+1,ncol=M)\n",
    "nprob <- matrix(1,nrow=K+1,ncol=M)\n",
    "# Cálculo de mu_i(j), i=1,2,3,4 y j=1,...K\n",
    "mu <- matrix(0,nrow=K,ncol=M)\n",
    "mu[1,] <- u\n",
    "for (k in 2:K){\n",
    "    mu[k,]<- c(u[1]*k,u[2],u[3])\n",
    "}\n",
    "\n",
    "#algoritmo iterativo para calcular R, T, L y U\n",
    "for (k in 1:K){   \n",
    "    R <- rep(0,M)  \n",
    "    for (j in 1:k){\n",
    "        R <- R + (prob[j,]*rep(j,M)/mu[j,])\n",
    "    }\n",
    "    T <- k/(t(v)%*%R)\n",
    "    L <- rep(0,M)\n",
    "    sum <- rep(0,M)\n",
    "    for (j in 1:k){\n",
    "        nprob[j+1,] <- rep(T,M)*(v/mu[j,])*prob[j,]\n",
    "        sum <- sum + nprob[j+1,]\n",
    "        L <- L + rep(j,M)*nprob[j+1,]\n",
    "    }\n",
    "    U <- sum\n",
    "    nprob[1,] <- rep(1,M) - U\n",
    "    prob <- nprob  \n",
    "}\n",
    "tasa[K] = T\n",
    "    print (c(K,T,U))\n",
    "}\n",
    "plot(2:30,tasa[2:30],type=\"l\")"
   ]
  },
  {
   "cell_type": "markdown",
   "metadata": {},
   "source": [
    "**(c)** De acuerdo al gráfico vemos que la tasa de proceso del sistema tiene una cota sobre $4.8 [tr/s]$ que está determinada por la capacidad del servidor que con mas de 22 clientes alcanza su utilización máxima."
   ]
  }
 ],
 "metadata": {
  "kernelspec": {
   "display_name": "R",
   "language": "R",
   "name": "ir"
  },
  "language_info": {
   "codemirror_mode": "r",
   "file_extension": ".r",
   "mimetype": "text/x-r-source",
   "name": "R",
   "pygments_lexer": "r",
   "version": "3.6.1"
  }
 },
 "nbformat": 4,
 "nbformat_minor": 2
}
