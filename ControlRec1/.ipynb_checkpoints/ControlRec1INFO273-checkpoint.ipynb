{
 "cells": [
  {
   "cell_type": "markdown",
   "metadata": {},
   "source": [
    "# Control Recuperativo 1 INFO273\n",
    "## Pregunta 1\n",
    "Considere un servidor en el que se ha registrado para cada requerimiento, el tiempo de uso de procesador y el número de operaciones de E/S en unidades de tiempo. Los requerimientos estan asociados a solicitudes a una base de datos relacional y unos programas de edición de textos. La tabla \"datosBD.csv\"  contiene los datos respectivos.\n",
    "Se solicita hacer una caracterización de la carga utilizando la distancia euclídea como métrica de agrupamiento.\n",
    "Para ello se solicita:\n",
    "\n",
    "1) Realizar el agrupamiento considerando la función hclust de R. Justifique los parámetros utilizados.\n",
    "\n",
    "2) A partir del dendograma y los datos originales, decidir el número de grupos que es representativo de los distintos tipos de solicitudes. Explique su decisión. \n",
    "\n",
    "3) Representar en el primer plano de componentes principales, los grupos definidos. Calcular valores medios en cada grupo y realizar una interpretación de cada uno."
   ]
  },
  {
   "cell_type": "code",
   "execution_count": 2,
   "metadata": {},
   "outputs": [
    {
     "name": "stdout",
     "output_type": "stream",
     "text": [
      "   Procesador..ms. E.S..s.\n",
      "1              7.4    19.3\n",
      "2             10.0    21.4\n",
      "3              7.9    20.4\n",
      "4             11.4    22.6\n",
      "5              4.0    19.9\n",
      "6              4.8    11.8\n",
      "7              5.9    13.0\n",
      "8              4.9    14.6\n",
      "9              6.1    15.3\n",
      "10             3.4    14.1\n",
      "11             4.2   109.6\n",
      "12             2.5   105.4\n",
      "13             6.7   114.0\n",
      "14             5.2    89.6\n",
      "15             3.8    92.1\n",
      "16             1.3    35.6\n",
      "17             1.2    32.3\n",
      "18             2.2    42.8\n",
      "19             2.0    39.7\n",
      "20             3.1    51.8\n"
     ]
    },
    {
     "data": {
      "text/plain": [
       " Procesador..ms.    E.S..s.      \n",
       " Min.   : 1.20   Min.   : 11.80  \n",
       " 1st Qu.: 2.95   1st Qu.: 18.30  \n",
       " Median : 4.50   Median : 27.45  \n",
       " Mean   : 4.90   Mean   : 44.27  \n",
       " 3rd Qu.: 6.25   3rd Qu.: 61.25  \n",
       " Max.   :11.40   Max.   :114.00  "
      ]
     },
     "metadata": {},
     "output_type": "display_data"
    },
    {
     "data": {
      "image/png": "[encoded data removed]",
      "text/plain": [
       "plot without title"
      ]
     },
     "metadata": {
      "image/png": {
       "height": 420,
       "width": 420
      },
      "text/plain": {
       "height": 420,
       "width": 420
      }
     },
     "output_type": "display_data"
    }
   ],
   "source": [
    "#ruta datos\n",
    "#lee datos del archivo de texto como una matriz. La primera #fila se utiliza \n",
    "#como vector de nombres de las columnas\n",
    "datos <-read.table(\"datosBD.csv\",dec=\",\",sep=\";\",header=TRUE)\n",
    "datos <- datos[,2:3]\n",
    "print(datos)\n",
    "summary(datos)\n",
    "boxplot(datos)"
   ]
  },
  {
   "cell_type": "markdown",
   "metadata": {},
   "source": [
    "## Pregunta 2\n",
    "De los resultados publicados de SPEC2017 para el índice de operaciones con coma flotante,\n",
    "se ha extraído en el archivo \"datosSpec.csv\" los valores obtenidos con dos servidores.\n",
    "\n",
    "Servidor A: ASUS ESC8000 G4(Z11PG-D24) Server System (3.40 GHz, Intel Xeon Gold 6246R)\n",
    "\n",
    "Servidor B: ASUS RS700A-E9V2(KNPP-D32-R) Server System (3.20 GHz, AMD EPYC 7F72)\n",
    "\n",
    "Para comparar su rendimiento se pide calcular:\n",
    "\n",
    "1) El índice de prestaciones al estilo SPEC para los servidores A y B, considerando el \"peak run time\". Interprete sus resultados. ¿qué consecuencias tiene considerar esta serie de tiempos en lugar de \"base time\"?\n",
    "\n",
    "2) Considerando la misma medida que en (1) para cada programa, comparar los rendimientos de los servidores A y B. Son significativas las diferencias?\n",
    "\n",
    "3) Compare sus resultados en (1) y (2). Son consistentes? Interprete a la luz de las configuraciones de ambos servidores."
   ]
  },
  {
   "cell_type": "code",
   "execution_count": 3,
   "metadata": {},
   "outputs": [
    {
     "name": "stdout",
     "output_type": "stream",
     "text": [
      "   Reference_Time BaseRunTime_A PeakRunTime_A BaseRunTime_B PeakRunTime_B\n",
      "1             590           100           100           105           105\n",
      "2             167           102           102            64            64\n",
      "3              52            47            47            87            87\n",
      "4             132            84            82           111           105\n",
      "5              89            90            90            89            89\n",
      "6             119           155           153           217           217\n",
      "7             144           113           113            68            68\n",
      "8             175            68            68            58            50\n",
      "9              91            97            96            96            96\n",
      "10            157            81            81            75            75\n"
     ]
    },
    {
     "data": {
      "text/plain": [
       " Reference_Time  BaseRunTime_A    PeakRunTime_A    BaseRunTime_B   \n",
       " Min.   : 52.0   Min.   : 47.00   Min.   : 47.00   Min.   : 58.00  \n",
       " 1st Qu.: 98.0   1st Qu.: 81.75   1st Qu.: 81.25   1st Qu.: 69.75  \n",
       " Median :138.0   Median : 93.50   Median : 93.00   Median : 88.00  \n",
       " Mean   :171.6   Mean   : 93.70   Mean   : 93.20   Mean   : 97.00  \n",
       " 3rd Qu.:164.5   3rd Qu.:101.50   3rd Qu.:101.50   3rd Qu.:102.75  \n",
       " Max.   :590.0   Max.   :155.00   Max.   :153.00   Max.   :217.00  \n",
       " PeakRunTime_B   \n",
       " Min.   : 50.00  \n",
       " 1st Qu.: 69.75  \n",
       " Median : 88.00  \n",
       " Mean   : 95.60  \n",
       " 3rd Qu.:102.75  \n",
       " Max.   :217.00  "
      ]
     },
     "metadata": {},
     "output_type": "display_data"
    },
    {
     "data": {
      "image/png": "[encoded data removed]",
      "text/plain": [
       "plot without title"
      ]
     },
     "metadata": {
      "image/png": {
       "height": 420,
       "width": 420
      },
      "text/plain": {
       "height": 420,
       "width": 420
      }
     },
     "output_type": "display_data"
    }
   ],
   "source": [
    "#ruta datos\n",
    "#lee datos del archivo de texto como una matriz. La primera #fila se utiliza \n",
    "#como vector de nombres de las columnas\n",
    "datos <-read.table(\"datosSPEC.csv\",sep=\";\",header=TRUE)\n",
    "\n",
    "print(datos[,2:6])\n",
    "summary(datos[,2:6])\n",
    "boxplot(datos[,2:6])"
   ]
  },
  {
   "cell_type": "code",
   "execution_count": null,
   "metadata": {},
   "outputs": [],
   "source": []
  }
 ],
 "metadata": {
  "celltoolbar": "Raw Cell Format",
  "kernelspec": {
   "display_name": "R",
   "language": "R",
   "name": "ir"
  },
  "language_info": {
   "codemirror_mode": "r",
   "file_extension": ".r",
   "mimetype": "text/x-r-source",
   "name": "R",
   "pygments_lexer": "r",
   "version": "3.6.1"
  }
 },
 "nbformat": 4,
 "nbformat_minor": 2
}
