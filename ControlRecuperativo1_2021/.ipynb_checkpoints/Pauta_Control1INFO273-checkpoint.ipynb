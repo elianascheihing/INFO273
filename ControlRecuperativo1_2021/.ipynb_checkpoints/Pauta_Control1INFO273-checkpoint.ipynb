{
 "cells": [
  {
   "cell_type": "markdown",
   "metadata": {},
   "source": [
    "# Control 1 INFO273-2021\n",
    "\n",
    "### Pregunta 1 (3 puntos)\n",
    "Se tienen trazas de la carga de trabajo en un cluster de servidores, de las cuales se ha extraído una muestra representativa de 20 trabajos, considerando por cada trabajo las principales medidas de uso de recursos del cluster.  La tabla \"datosCarga.csv\"  presenta las tasas de uso en 1 segundo de procesador, memoria y entrada/salida de la muestra de 20 trabajos.\n",
    "Se trata de caracterizar la carga de trabajo utilizando la distancia euclídea como métrica de agrupamiento.\n",
    "Para ello se solicita:\n",
    "\n",
    "(i) Realizar el agrupamiento considerando la función hclust de R. Justifique los parámetros utilizados.\n",
    "\n",
    "(ii) A partir del dendograma y los datos originales, decidir el número de grupos que es representativo de los distintos tipos de trabajos. Explique su decisión. \n",
    "\n",
    "(iii) Realizar un análisis de componentes principales con los datos  ¿Es representativo de los datos el primer plano principal? Justifique su respuesta.\n",
    "\n",
    "(iv) Representar los grupos definidos en (ii) en el primer plano principal. Calcular los valores medios en cada grupo y realizar una interpretación de cada uno. ¿Se valida la decisión tomada en (ii)?\n",
    "\n"
   ]
  },
  {
   "cell_type": "code",
   "execution_count": 5,
   "metadata": {},
   "outputs": [
    {
     "name": "stdout",
     "output_type": "stream",
     "text": [
      "         CPU Mem_usada Mem_asignada Mem_max  CPU_max     Disco\n",
      "1  0.0015620   0.06787      0.07568 0.06787 0.039670 0.0003567\n",
      "2  0.0015680   0.06787      0.07556 0.06787 0.033020 0.0009289\n",
      "3  0.0003071   0.08044      0.09521 0.08044 0.023770 0.0007858\n",
      "4  0.0003004   0.08044      0.09521 0.08044 0.007919 0.0022850\n",
      "5  0.0004606   0.07715      0.08740 0.07715 0.005112 0.0002146\n",
      "6  0.0005188   0.07678      0.08740 0.07678 0.015080 0.0009289\n",
      "7  0.0003805   0.08118      0.08936 0.08118 0.016240 0.0006428\n",
      "8  0.0003271   0.08057      0.08936 0.08069 0.015990 0.0715300\n",
      "9  0.0025180   0.09106      0.10110 0.09106 0.021210 0.0002146\n",
      "10 0.0027050   0.09082      0.10010 0.09094 0.014890 0.0009995\n",
      "11 0.0025330   0.09094      0.10080 0.09106 0.029720 0.0003567\n",
      "12 0.0011710   0.08496      0.09521 0.08496 0.021450 0.0004997\n",
      "13 0.0011900   0.08472      0.09521 0.08484 0.022580 0.0004282\n",
      "14 0.0341800   0.08752      0.09839 0.08887 0.103000 0.0578600\n",
      "15 0.0352800   0.08740      0.09900 0.08862 0.122900 0.0227100\n",
      "16 0.0364400   0.08704      0.09912 0.08862 0.114100 0.0303600\n",
      "17 0.0384500   0.08728      0.09912 0.08850 0.108200 0.0297200\n",
      "18 0.0379000   0.08716      0.09912 0.08838 0.115500 0.0049970\n",
      "19 0.0340600   0.08704      0.09912 0.08838 0.135300 0.0140100\n",
      "20 0.0369900   0.08704      0.09912 0.08850 0.134800 0.0354000\n"
     ]
    },
    {
     "data": {
      "text/plain": [
       "      CPU              Mem_usada        Mem_asignada        Mem_max       \n",
       " Min.   :0.0003004   Min.   :0.06787   Min.   :0.07556   Min.   :0.06787  \n",
       " 1st Qu.:0.0005043   1st Qu.:0.08044   1st Qu.:0.08936   1st Qu.:0.08044  \n",
       " Median :0.0020430   Median :0.08600   Median :0.09680   Median :0.08667  \n",
       " Mean   :0.0134421   Mean   :0.08326   Mean   :0.09403   Mean   :0.08376  \n",
       " 3rd Qu.:0.0344550   3rd Qu.:0.08731   3rd Qu.:0.09912   3rd Qu.:0.08862  \n",
       " Max.   :0.0384500   Max.   :0.09106   Max.   :0.10110   Max.   :0.09106  \n",
       "    CPU_max             Disco          \n",
       " Min.   :0.005112   Min.   :0.0002146  \n",
       " 1st Qu.:0.016178   1st Qu.:0.0004818  \n",
       " Median :0.026745   Median :0.0009642  \n",
       " Mean   :0.055023   Mean   :0.0137614  \n",
       " 3rd Qu.:0.109675   3rd Qu.:0.0244625  \n",
       " Max.   :0.135300   Max.   :0.0715300  "
      ]
     },
     "metadata": {},
     "output_type": "display_data"
    },
    {
     "data": {
      "image/png": "[encoded data removed]",
      "text/plain": [
       "plot without title"
      ]
     },
     "metadata": {
      "image/png": {
       "height": 480,
       "width": 480
      }
     },
     "output_type": "display_data"
    }
   ],
   "source": [
    "#ruta datos\n",
    "#lee datos del archivo de texto como una matriz. La primera #fila se utiliza \n",
    "#como vector de nombres de las columnas\n",
    "datos1 <-read.table(\"datosCarga.csv\",dec=\".\",sep=\";\",header=TRUE)\n",
    "print(datos1)\n",
    "summary(datos1)\n",
    "boxplot(datos1)\n",
    "\n"
   ]
  },
  {
   "cell_type": "markdown",
   "metadata": {},
   "source": [
    "**Respuesta 1(i)** \n",
    "\n",
    "Al calcular las distancias se utiliza la norma Euclidiana (dist sin parámetros) porque no se le asignará mas importancia a una variable que otra. El parámetro method en la función hclust se definió como \"single\" que significa que se considera la menor distancia entre pares de individuos de distintos cluster, como medida de distancia entre clusters. Se escoge porque promueve la formación de grupos mas extendidos."
   ]
  },
  {
   "cell_type": "code",
   "execution_count": 3,
   "metadata": {},
   "outputs": [
    {
     "data": {
      "image/png": "[encoded data removed]",
      "text/plain": [
       "Plot with title \"Cluster Servidores Dendograma\""
      ]
     },
     "metadata": {
      "image/png": {
       "height": 480,
       "width": 480
      }
     },
     "output_type": "display_data"
    }
   ],
   "source": [
    "d <- dist(datos1)\n",
    "hd <- hclust(d,method=\"single\",members=NULL)\n",
    "options(repr.plot.width = 8, repr.plot.height = 8)\n",
    "plot(hd,labels=NULL,main=\"Cluster Servidores Dendograma\",sub=NULL,xlab=NULL,ylab=\"Height\")"
   ]
  },
  {
   "cell_type": "code",
   "execution_count": 9,
   "metadata": {},
   "outputs": [
    {
     "data": {
      "text/plain": [
       "      CPU              Mem_usada        Mem_asignada        Mem_max       \n",
       " Min.   :0.0003004   Min.   :0.06787   Min.   :0.07556   Min.   :0.06787  \n",
       " 1st Qu.:0.0004406   1st Qu.:0.07706   1st Qu.:0.08740   1st Qu.:0.07706  \n",
       " Median :0.0011805   Median :0.08081   Median :0.09521   Median :0.08081  \n",
       " Mean   :0.0012679   Mean   :0.08119   Mean   :0.09152   Mean   :0.08122  \n",
       " 3rd Qu.:0.0018055   3rd Qu.:0.08643   3rd Qu.:0.09643   3rd Qu.:0.08646  \n",
       " Max.   :0.0027050   Max.   :0.09106   Max.   :0.10110   Max.   :0.09106  \n",
       "    CPU_max             Disco          \n",
       " Min.   :0.005112   Min.   :0.0002146  \n",
       " 1st Qu.:0.015033   1st Qu.:0.0003567  \n",
       " Median :0.021330   Median :0.0005713  \n",
       " Mean   :0.020888   Mean   :0.0007201  \n",
       " 3rd Qu.:0.025257   3rd Qu.:0.0009289  \n",
       " Max.   :0.039670   Max.   :0.0022850  "
      ]
     },
     "metadata": {},
     "output_type": "display_data"
    },
    {
     "data": {
      "text/plain": [
       "      CPU              Mem_usada        Mem_asignada        Mem_max       \n",
       " Min.   :0.0003271   Min.   :0.08057   Min.   :0.08936   Min.   :0.08069  \n",
       " 1st Qu.:0.0003271   1st Qu.:0.08057   1st Qu.:0.08936   1st Qu.:0.08069  \n",
       " Median :0.0003271   Median :0.08057   Median :0.08936   Median :0.08069  \n",
       " Mean   :0.0003271   Mean   :0.08057   Mean   :0.08936   Mean   :0.08069  \n",
       " 3rd Qu.:0.0003271   3rd Qu.:0.08057   3rd Qu.:0.08936   3rd Qu.:0.08069  \n",
       " Max.   :0.0003271   Max.   :0.08057   Max.   :0.08936   Max.   :0.08069  \n",
       "    CPU_max            Disco        \n",
       " Min.   :0.01599   Min.   :0.07153  \n",
       " 1st Qu.:0.01599   1st Qu.:0.07153  \n",
       " Median :0.01599   Median :0.07153  \n",
       " Mean   :0.01599   Mean   :0.07153  \n",
       " 3rd Qu.:0.01599   3rd Qu.:0.07153  \n",
       " Max.   :0.01599   Max.   :0.07153  "
      ]
     },
     "metadata": {},
     "output_type": "display_data"
    },
    {
     "data": {
      "text/plain": [
       "      CPU            Mem_usada        Mem_asignada        Mem_max       \n",
       " Min.   :0.03406   Min.   :0.08704   Min.   :0.09839   Min.   :0.08838  \n",
       " 1st Qu.:0.03473   1st Qu.:0.08704   1st Qu.:0.09906   1st Qu.:0.08844  \n",
       " Median :0.03644   Median :0.08716   Median :0.09912   Median :0.08850  \n",
       " Mean   :0.03619   Mean   :0.08721   Mean   :0.09900   Mean   :0.08855  \n",
       " 3rd Qu.:0.03744   3rd Qu.:0.08734   3rd Qu.:0.09912   3rd Qu.:0.08862  \n",
       " Max.   :0.03845   Max.   :0.08752   Max.   :0.09912   Max.   :0.08887  \n",
       "    CPU_max           Disco         \n",
       " Min.   :0.1030   Min.   :0.004997  \n",
       " 1st Qu.:0.1111   1st Qu.:0.018360  \n",
       " Median :0.1155   Median :0.029720  \n",
       " Mean   :0.1191   Mean   :0.027865  \n",
       " 3rd Qu.:0.1288   3rd Qu.:0.032880  \n",
       " Max.   :0.1353   Max.   :0.057860  "
      ]
     },
     "metadata": {},
     "output_type": "display_data"
    },
    {
     "data": {
      "image/png": "[encoded data removed]",
      "text/plain": [
       "plot without title"
      ]
     },
     "metadata": {
      "image/png": {
       "height": 240,
       "width": 960
      }
     },
     "output_type": "display_data"
    }
   ],
   "source": [
    "datosC1 <- datos1[c(1:7,9:13),]\n",
    "datosC2 <- datos1[8,]\n",
    "datosC3 <- datos1[14:20,]\n",
    "summary(datosC1)\n",
    "summary(datosC2)\n",
    "summary(datosC3)\n",
    "par(mfrow=c(1,3))\n",
    "options(repr.plot.width = 16, repr.plot.height = 4)\n",
    "boxplot(datosC1)\n",
    "boxplot(datosC2)\n",
    "boxplot(datosC3)"
   ]
  },
  {
   "cell_type": "markdown",
   "metadata": {},
   "source": [
    "**Respuesta 1(ii)**\n",
    "Se distinguen claramente tres grupos, los trabajos del 1 al 13, exceptuando el N°8, que tienen un orden de magnitud menor uso de CPU y también menor uso de Disco. Luego el trabajo N°8, que se distingue por el uso de Disco y finalmente el grup de los trabajos del 14 al 20 con mayor uso de CPU y uso variable de Disco.\n",
    "Los tres grupos corresponden a realizar un corte en el dendograma a la altura de 0.065."
   ]
  },
  {
   "cell_type": "code",
   "execution_count": 14,
   "metadata": {},
   "outputs": [
    {
     "data": {
      "text/plain": [
       "Importance of components:\n",
       "                          Comp.1    Comp.2    Comp.3      Comp.4      Comp.5\n",
       "Standard deviation     1.9631203 1.1992289 0.8082586 0.189971373 0.136261607\n",
       "Proportion of Variance 0.6423069 0.2396917 0.1088803 0.006014854 0.003094538\n",
       "Cumulative Proportion  0.6423069 0.8819985 0.9908789 0.996893732 0.999988270\n",
       "                             Comp.6\n",
       "Standard deviation     8.389416e-03\n",
       "Proportion of Variance 1.173038e-05\n",
       "Cumulative Proportion  1.000000e+00"
      ]
     },
     "metadata": {},
     "output_type": "display_data"
    },
    {
     "data": {
      "image/png": "[encoded data removed]",
      "text/plain": [
       "Plot with title \"res\""
      ]
     },
     "metadata": {
      "image/png": {
       "height": 480,
       "width": 480
      }
     },
     "output_type": "display_data"
    },
    {
     "name": "stdout",
     "output_type": "stream",
     "text": [
      "         Comp.1     Comp.2      Comp.3       Comp.4       Comp.5        Comp.6\n",
      "[1,] -1.1822891 -0.6130978  0.08059071 -0.003314888 -0.001450926 -0.0003578955\n",
      "[2,] -0.6528179  1.0937749 -2.87456789 -0.044897848 -0.078619913  0.0058326216\n",
      "[3,]  2.1200410  0.8947712  0.27249706  0.012096644  0.013718718 -0.0002196965\n"
     ]
    },
    {
     "data": {
      "image/png": "[encoded data removed]",
      "text/plain": [
       "plot without title"
      ]
     },
     "metadata": {
      "image/png": {
       "height": 480,
       "width": 480
      }
     },
     "output_type": "display_data"
    }
   ],
   "source": [
    "library(rattle)\n",
    "options(repr.plot.width = 8, repr.plot.height = 8)\n",
    "#grafica los centros de cada grupo en el plano de componentes principales utilizando colores distintos\n",
    "res <- princomp(datos1, cor=TRUE)\n",
    "summary(res)\n",
    "plot(res)\n",
    "biplot(res,xlabs=cutree(hd,3))\n",
    "centros <- centers.hclust(datos1,hd,3)\n",
    "res2 <- predict(res,centros)\n",
    "print(res2)\n",
    "points(res2[,1:2],col=1:3,pch=19)"
   ]
  },
  {
   "cell_type": "markdown",
   "metadata": {},
   "source": [
    "**Pregunta 1 (iii)**\n",
    "\n",
    "La proyección en el primer plano principal conserva mas del 88% de la varianza de los datos, por lo que esta proyección representa muy bien lo que ocurre con las clases. \n",
    "\n",
    "\n",
    "**Pregunta 1 (iv)** \n",
    "\n",
    "El agrupamiento definido previamente se valida y es posible interpretarlo mas facilmente. En efecto, la clase 1 es la que menos uso hace de los recursos CPU y Disco y además tiene bajo uso de Memoria. La Clase 2 con sólo un trabajo es intermedia en uso de recursos, con mayor proporción de uso de Disco y la Clase 3  es la que mas recursos utiliza, particularmente CPU."
   ]
  },
  {
   "cell_type": "markdown",
   "metadata": {},
   "source": [
    "### Pregunta 2 (1 puntos)\n",
    "Se ha medido el tiempo de respuesta en milisegundos que dos sistemas tardan en ejecutar 10 programas distintos (tabla \"datosCompara.csv\"). Se pide determinar si existe una diferencia estadísticamente significativa entre ambos sistemas."
   ]
  },
  {
   "cell_type": "code",
   "execution_count": null,
   "metadata": {},
   "outputs": [],
   "source": []
  },
  {
   "cell_type": "code",
   "execution_count": 12,
   "metadata": {},
   "outputs": [
    {
     "name": "stdout",
     "output_type": "stream",
     "text": [
      "   Programa  Sistema1  Sistema2\n",
      "1         1 0.3735753 0.4392694\n",
      "2         2 0.2808774 0.1452266\n",
      "3         3 0.0054599 0.0041405\n",
      "4         4 0.0381347 0.3679523\n",
      "5         5 0.2356411 0.4143013\n",
      "6         6 0.0801592 0.5203086\n",
      "7         7 0.1548014 0.0358922\n",
      "8         8 0.3624128 0.2634108\n",
      "9         9 0.2869101 0.3128587\n",
      "10       10 0.0797615 0.0496237\n"
     ]
    },
    {
     "data": {
      "text/plain": [
       "    Sistema1          Sistema2       \n",
       " Min.   :0.00546   Min.   :0.004141  \n",
       " 1st Qu.:0.07986   1st Qu.:0.073524  \n",
       " Median :0.19522   Median :0.288135  \n",
       " Mean   :0.18977   Mean   :0.255298  \n",
       " 3rd Qu.:0.28540   3rd Qu.:0.402714  \n",
       " Max.   :0.37358   Max.   :0.520309  "
      ]
     },
     "metadata": {},
     "output_type": "display_data"
    },
    {
     "data": {
      "image/png": "[encoded data removed]",
      "text/plain": [
       "plot without title"
      ]
     },
     "metadata": {},
     "output_type": "display_data"
    }
   ],
   "source": [
    "datos2 <-read.table(\"datosCompara.csv\",dec=\",\",sep=\";\",header=TRUE)\n",
    "print(datos2)\n",
    "summary(datos2[,2:3])\n",
    "boxplot(datos2[,2:3])"
   ]
  },
  {
   "cell_type": "markdown",
   "metadata": {},
   "source": [
    "### Pregunta 3 (2 puntos)\n",
    "\n",
    "i) Explique brevemente los conceptos de  monitoreo y benchmark de sistemas computacionales. Indique sus principales características y diferencias.\n",
    "\n",
    "ii) Para las herramientas que estudió en el taller de la unidad (tanto la que presentó como la que usó en el taller), realice un cuadro resumen que incluya principales características, ventajas y desventajas y  ámbitos de aplicación\n"
   ]
  },
  {
   "cell_type": "code",
   "execution_count": null,
   "metadata": {},
   "outputs": [],
   "source": []
  }
 ],
 "metadata": {
  "celltoolbar": "Raw Cell Format",
  "kernelspec": {
   "display_name": "R",
   "language": "R",
   "name": "ir"
  },
  "language_info": {
   "codemirror_mode": "r",
   "file_extension": ".r",
   "mimetype": "text/x-r-source",
   "name": "R",
   "pygments_lexer": "r",
   "version": "4.0.5"
  }
 },
 "nbformat": 4,
 "nbformat_minor": 2
}
