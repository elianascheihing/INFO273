{
 "cells": [
  {
   "cell_type": "markdown",
   "metadata": {},
   "source": [
    "## Pauta Control Recuperativo 2 INFO273. Redes de Colas\n",
    "Utilice papel y lápiz para los desarrollos teóricos, les toma una foto y los incorpora como imagen en este notebook.\n",
    "Para las partes que requieren cáculos matemáticos utilice código incrustado (en R o Python según sea su conveniencia).\n",
    "Suba la carpeta comprimida con sus respuestas al espacio definido en siveducMD."
   ]
  },
  {
   "cell_type": "markdown",
   "metadata": {},
   "source": [
    "Considere el modelo de un sistema informático que consta de un procesador y dos unidades de disco magnético idénticas. Los trabajos del sistema siguen el comportamiento de un servidor central. Las razones de visita y los tiempos de servicio (en segundos) se detallan en la siguiente tabla:\n",
    "\n",
    "$$\\begin{array}{| c | c | c | c |}\n",
    "\\hline\n",
    "\\text{Nodo} & \\text{Dispositivo} & \\text{Tiempo medio} & \\text{Tasa}  \\\\\n",
    "&& \\text{de servicio} & \\text{de visitas} \\\\ \\hline\n",
    "1 & \\text{Procesador (1)} & 0,01 & 25 \\\\\n",
    "2 & \\text{Disco A (2)} & 0,04 & 12 \\\\\n",
    "3 & \\text{Disco B (3)}& 0,04 & 12 \\\\ \\hline\n",
    "\\end{array} $$\n",
    "\n",
    "**(1)** Suponga  que el sistema es sometido a una carga transaccional, con una tasa llegadas de dos trabajos por segundo. Modele este sistema con una red de colas abierta y calcule:\n",
    "\n",
    "**(a)**  Para cada nodo la utilización, número medio de trabajos y tiempo de respuesta. ¿Cuál es el tiempo de respuesta del sistema informático?\n",
    "\n",
    "**(b)**  ¿Cuál es la productividad (tasa de proceso) máxima que soporta este sistema?\n",
    "\n",
    "**(c)**  ¿Qué pasaría si se reemplazan los dos discos por uno nuevo con un tiempo de servicio de 0,03 segundos? ¿Cuál es el nuevo tiempo de respuesta?\n",
    "\n",
    "**(2)**.  Suponga ahora que el sistema soporta una carga interactiva de 20 usuarios con un tiempo medio de reflexión de 3 segundos. Modele este sistema con una red de colas cerrada y calcule:\n",
    "\n",
    "**(a)**  Para cada nodo la utilización, número medio de trabajos y tiempo de respuesta. ¿Cuál es el tiempo de respuesta del sistema informático?\n",
    "\n",
    "**(b)**  Varie el número de clientes desde k=20 a 50 y grafique tasas de proceso. Interprete sus resultados. \n",
    "\n",
    "**(c)**  ¿Qué pasaría si se reemplazan los dos discos por uno nuevo con un tiempo de servicio de 0,03 segundos? Compare este resultado con el caso transaccional y justifique la diferencia existente."
   ]
  },
  {
   "cell_type": "markdown",
   "metadata": {},
   "source": [
    "**Respuesta 1**\n",
    "\n",
    "**(a)** Modelamos el sistema como una red abierta en que se puede calcular la demanda de cada nodo como:\n",
    "$$D_i = \\frac{v_i}{\\mu_i} = v_i E(S_i) \\qquad \\text{y también} \\qquad \\rho_i = \\gamma D_i\\qquad \\text{con} \\qquad \\gamma= 2[p/s]$$\n",
    "\n",
    "Además \n",
    "\n",
    "$$L_i = \\frac{\\rho_i}{1-\\rho_i},\\qquad R_i = \\frac{L_i}{\\lambda_i}, \\qquad R = \\frac{\\sum L_i}{\\gamma} \\qquad \\text{con} \\qquad \\lambda_i= \\gamma v_i$$\n",
    "\n",
    "Calculando estos valores para cada nodo, tenemos:\n",
    "\n",
    "$$\\begin{array}{| c | c | c | c | c| c|c| c|c|}\n",
    "\\hline\n",
    "\\text{Nodo} & \\text{Dispositivo} & \\text{Tiempo medio} & \\text{Tasa} & \\text{Demanda} & \\rho_i & L_i & \\lambda_i & R_i \\\\\n",
    "&& \\text{de servicio }E(S_i) & \\text{de visitas }v_i & D_i & & &\\\\ \\hline\n",
    "1 & \\text{Procesador} & 0,01 & 25  & 0,25 & 0,50 & 1 & 50 & 0,02\\\\\n",
    "2 & \\text{Disco A} & 0,04 & 12 & 0,48& 0,96  & 24 & 24 & 1\\\\\n",
    "3 & \\text{Disco B}& 0,04 & 12 & 0,48 & 0,96 & 24 & 24& 1\\\\ \\hline\n",
    "\\end{array} $$\n",
    "\n",
    "Y finalmente\n",
    "$$ R = \\frac{1+24+24}{2} = 24,5[s]$$"
   ]
  },
  {
   "cell_type": "markdown",
   "metadata": {},
   "source": [
    "**(b)** La tasa de proceso máxima $\\gamma_{max}$ es la que permiten las condiciones de equilibrio:\n",
    "$$\\rho_i= \\gamma D_i < 1, i=1,2,3$$\n",
    "\n",
    "es decir \n",
    "\n",
    "$$\\gamma_{max} < \\min\\{\\frac{1}{0,25}, \\frac{1}{0,48}\\} = 2,083333$$"
   ]
  },
  {
   "cell_type": "markdown",
   "metadata": {},
   "source": [
    "**(c)** En el nuevo sistema, la tasa de visita del nodo disco (2) será 24 y si $E(S_2) = 0,03$ entonces\n",
    "\n",
    "$$\\rho_{2} = \\gamma v_{2} E(S_{2}) = 2*24*0,03 = 1,44 > 1$$\n",
    "\n",
    "No se alcanza el equilibrio y el tiempo de respuesta aumenta indefinidamente."
   ]
  },
  {
   "cell_type": "markdown",
   "metadata": {},
   "source": [
    "**Respuesta 2**\n",
    "\n",
    "La red cerrada contiene un nuevo nodo,el nodo que modela a los clientes de la carga interactiva,  con tasa de servicio dependiente de la carga:\n",
    "$$\\mu_{\\text{Clientes}}= \\frac{k}{3} \\qquad \\text{con k el número de clientes en estado de reflexión}$$\n",
    "\n",
    "Si consideramos la red abierta equivalente, reemplazando la transición desde el nodo de clientes al procesador (probabilidad de ruteo 1), entonces:\n",
    "$$v_0 = 1* v_{\\text{Clientes}}= 1 \\implies v_{\\text{Clientes}}= 1 $$"
   ]
  },
  {
   "cell_type": "code",
   "execution_count": 13,
   "metadata": {},
   "outputs": [
    {
     "name": "stdout",
     "output_type": "stream",
     "text": [
      "         [,1]\n",
      "[1,] 1.930912\n",
      "       [,1]       [,2]      [,3]      [,4]\n",
      "L 5.7927354 0.92124592 6.6430094 6.6430094\n",
      "U 0.9971866 0.48272795 0.9268377 0.9268377\n",
      "R 3.0000000 0.01908416 0.2866957 0.2866957\n",
      "        [,1]\n",
      "[1,] 10.3578\n"
     ]
    }
   ],
   "source": [
    "##(a)\n",
    "K=20\n",
    "M=4\n",
    "L <- rep(0,M)\n",
    "R <- rep(0,M)\n",
    "U <- rep(0,M)\n",
    "# nodo 1 es el nodo cliente\n",
    "u <- c(1/3,100,25,25)\n",
    "v <- c(1,25,12,12)\n",
    "prob <- matrix(1,nrow=K+1,ncol=M)\n",
    "nprob <- matrix(1,nrow=K+1,ncol=M)\n",
    "# Cálculo de mu_i(j), i=1,2,3,4 y j=1,...K\n",
    "mu <- matrix(0,nrow=K,ncol=M)\n",
    "mu[1,] <- u\n",
    "for (k in 2:K){\n",
    "    mu[k,]<- c(u[1]*k,u[2],u[3],u[4])\n",
    "}\n",
    "\n",
    "#algoritmo iterativo para calcular R, T, L y U\n",
    "for (k in 1:K){   \n",
    "    R <- rep(0,M)  \n",
    "    for (j in 1:k){\n",
    "        R <- R + (prob[j,]*rep(j,M)/mu[j,])\n",
    "    }\n",
    "    T <- k/(t(v)%*%R)\n",
    "    L <- rep(0,M)\n",
    "    sum <- rep(0,M)\n",
    "    for (j in 1:k){\n",
    "        nprob[j+1,] <- rep(T,M)*(v/mu[j,])*prob[j,]\n",
    "        sum <- sum + nprob[j+1,]\n",
    "        L <- L + rep(j,M)*nprob[j+1,]\n",
    "    }\n",
    "    U <- sum\n",
    "    nprob[1,] <- rep(1,M) - U\n",
    "    prob <- nprob  \n",
    "}\n",
    "#tasa de proceso\n",
    "#número de ciclos completos por unidad de tiempo.\n",
    "print(T)\n",
    "#medidas de desempeño por nodo\n",
    "print(rbind(L,U,R))\n",
    "#tiempo medio de respuesta del sistema \n",
    "#(lo que demora un cliente interactivo en todo un ciclo)\n",
    "print(sum(L)/T)"
   ]
  },
  {
   "cell_type": "code",
   "execution_count": 10,
   "metadata": {},
   "outputs": [
    {
     "name": "stdout",
     "output_type": "stream",
     "text": [
      "[1] 0.9977932 0.5089049 0.9770973 0.9770973\n"
     ]
    },
    {
     "data": {
      "text/plain": [
       "   Min. 1st Qu.  Median    Mean 3rd Qu.    Max. \n",
       "  0.000   0.000   1.975   1.241   2.017   2.036 "
      ]
     },
     "metadata": {},
     "output_type": "display_data"
    },
    {
     "data": {
      "image/png": "[encoded data removed]",
      "text/plain": [
       "plot without title"
      ]
     },
     "metadata": {
      "image/png": {
       "height": 420,
       "width": 420
      },
      "text/plain": {
       "height": 420,
       "width": 420
      }
     },
     "output_type": "display_data"
    }
   ],
   "source": [
    "#(b)\n",
    "N=50\n",
    "tasa <- rep(0,N)\n",
    "for (K in 20:N){\n",
    "M=4\n",
    "L <- rep(0,M)\n",
    "R <- rep(0,M)\n",
    "U <- rep(0,M)\n",
    "u <- c(1/3,100,25,25)\n",
    "v <- c(1,25,12,12)\n",
    "prob <- matrix(1,nrow=K+1,ncol=M)\n",
    "nprob <- matrix(1,nrow=K+1,ncol=M)\n",
    "# Cálculo de mu_i(j), i=1,2,3,4 y j=1,...K\n",
    "mu <- matrix(0,nrow=K,ncol=M)\n",
    "mu[1,] <- u\n",
    "for (k in 2:K){\n",
    "    mu[k,]<- c(u[1]*k,u[2],u[3],u[4])\n",
    "}\n",
    "\n",
    "#algoritmo iterativo para calcular R, T, L y U\n",
    "for (k in 1:K){   \n",
    "    R <- rep(0,M)  \n",
    "    for (j in 1:k){\n",
    "        R <- R + (prob[j,]*rep(j,M)/mu[j,])\n",
    "    }\n",
    "    T <- k/(t(v)%*%R)\n",
    "    L <- rep(0,M)\n",
    "    sum <- rep(0,M)\n",
    "    for (j in 1:k){\n",
    "        nprob[j+1,] <- rep(T,M)*(v/mu[j,])*prob[j,]\n",
    "        sum <- sum + nprob[j+1,]\n",
    "        L <- L + rep(j,M)*nprob[j+1,]\n",
    "    }\n",
    "    U <- sum\n",
    "    nprob[1,] <- rep(1,M) - U\n",
    "    prob <- nprob  \n",
    "}\n",
    "tasa[K] = T\n",
    "}\n",
    "plot(20:N,tasa[20:N],type=\"l\")\n",
    "print(U)\n",
    "summary(tasa)\n"
   ]
  },
  {
   "cell_type": "markdown",
   "metadata": {},
   "source": [
    "De acuerdo al gráfico vemos que la tasa de proceso del sistema tiene una cota sobre $2.03 [tr/s]$ que está determinada por la capacidad de los discos que con 50 clientes están cerca de la saturación. La cota debiera ser 2.083 como en (1)"
   ]
  },
  {
   "cell_type": "code",
   "execution_count": 12,
   "metadata": {},
   "outputs": [
    {
     "name": "stdout",
     "output_type": "stream",
     "text": [
      "       [,1]      [,2]       [,3]\n",
      "L 4.1662456 0.5318283 15.3019261\n",
      "U 0.9844897 0.3471871  0.9999989\n",
      "R 3.0000000 0.0153182  0.4591042\n",
      "         [,1]\n",
      "[1,] 1.388749\n"
     ]
    }
   ],
   "source": [
    "##(c)\n",
    "K=20\n",
    "M=3\n",
    "L <- rep(0,M)\n",
    "R <- rep(0,M)\n",
    "U <- rep(0,M)\n",
    "u <- c(1/3,100,33.33)\n",
    "v <- c(1,25,24)\n",
    "prob <- matrix(1,nrow=K+1,ncol=M)\n",
    "nprob <- matrix(1,nrow=K+1,ncol=M)\n",
    "# Cálculo de mu_i(j), i=1,2,3,4 y j=1,...K\n",
    "mu <- matrix(0,nrow=K,ncol=M)\n",
    "mu[1,] <- u\n",
    "for (k in 2:K){\n",
    "    mu[k,]<- c(u[1]*k,u[2],u[3])\n",
    "}\n",
    "\n",
    "#algoritmo iterativo para calcular R, T, L y U\n",
    "for (k in 1:K){   \n",
    "    R <- rep(0,M)  \n",
    "    for (j in 1:k){\n",
    "        R <- R + (prob[j,]*rep(j,M)/mu[j,])\n",
    "    }\n",
    "    T <- k/(t(v)%*%R)\n",
    "    L <- rep(0,M)\n",
    "    sum <- rep(0,M)\n",
    "    for (j in 1:k){\n",
    "        nprob[j+1,] <- rep(T,M)*(v/mu[j,])*prob[j,]\n",
    "        sum <- sum + nprob[j+1,]\n",
    "        L <- L + rep(j,M)*nprob[j+1,]\n",
    "    }\n",
    "    U <- sum\n",
    "    nprob[1,] <- rep(1,M) - U\n",
    "    prob <- nprob  \n",
    "}\n",
    "\n",
    "print(rbind(L,U,R))\n",
    "print(T)"
   ]
  },
  {
   "cell_type": "markdown",
   "metadata": {},
   "source": [
    "Con esta nueva configuración el disco esta casi a utilización máxima, pero aún no se alcanza la saturación. El comportamiento es distinto a aquel de la red abierta, porque la población es finita, y por lo tanto el sistema no sufre la misma sobrecarga. El número máximo de trabajos en cada cola no puede ser mas de 20.\n"
   ]
  },
  {
   "cell_type": "code",
   "execution_count": null,
   "metadata": {},
   "outputs": [],
   "source": []
  }
 ],
 "metadata": {
  "kernelspec": {
   "display_name": "R",
   "language": "R",
   "name": "ir"
  },
  "language_info": {
   "codemirror_mode": "r",
   "file_extension": ".r",
   "mimetype": "text/x-r-source",
   "name": "R",
   "pygments_lexer": "r",
   "version": "4.0.5"
  }
 },
 "nbformat": 4,
 "nbformat_minor": 2
}
