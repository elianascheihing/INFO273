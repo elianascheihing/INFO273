{
 "cells": [
  {
   "cell_type": "markdown",
   "metadata": {},
   "source": [
    "## Control 2 INFO273. Redes de Colas\n",
    "Utilice papel y lápiz para los desarrollos teóricos, les toma una foto y los incorpora como imagen en este notebook.\n",
    "Para las partes que requieren cáculos matemáticos utilice código incrustado (en R o Python según sea su conveniencia).\n",
    "Suba la carpeta comprimida con sus respuestas al espacio definido en siveducMD."
   ]
  },
  {
   "cell_type": "markdown",
   "metadata": {},
   "source": [
    "**1.** Un sistema informático está compuesto por dos estaciones de trabajo monoprocesadoras idénticas, conectadas entre sí. A la estación $1$ llegan trabajos originads fuera del sistema, según un flujo de Poisson de tasa $\\gamma$. Cada vez que se termina la ejecución de un proceso en la estación 1, con probabilidad $0.9$ se genera un nuevo proceo en la estació $2$. En \n",
    "los casos restantes, el proceso termina sin crear nuevos procesos \"hijos\". A su vez, cuando un proceso termina su ejecución en la estación $2$, puede crear otro hijo en la estación $1$ con probabilidad $0.1$ o extinguirse completamente en otro caso. Sabiendo que el tiempo de ejecución de los procesos en ambas máquinas se distribuye exponencial de tasa $\\mu$, se pide:\n",
    "\n",
    "**(a)** Dibuje el grafo de la red y deduzca expresiones para las tasas de proceso de cada nodo. Considere el parámetro:\n",
    "$$\\rho = \\frac{\\gamma}{\\mu}$$\n",
    "Determine condiciones sobre $\\rho$ de manera que esta red de colas se encuentre en equilibrio.\n",
    "\n",
    "**(b)** Suponga $\\rho=0.9 \\text { y }\\gamma = 5 [tr/s]$. Calcule el número promedio de procesos totales en cada estación de trabajo y el tiempo que transcurre desde que llega un proceso a la estación $1$ hasta que él y todos sus descendientes se extinguen. Interprete sus resultados, ¿Cuál es el dispositivo cuello de botella?.\n",
    "\n",
    "**(c)** Suponga que se mejora el dispositivo cuello de botella, disminuyendo su tiempo medio de servicio a la mitad. Calcule nuevamente las medidas de desempeño del sistema y comente.\n"
   ]
  },
  {
   "cell_type": "markdown",
   "metadata": {},
   "source": [
    "**2.** Considere un sistema cliente-servidor en que $K=10$  clientes  se conectan a una base de datos mediante una red Ethernet. El servidor se representa por un nodo con tasa de servicio $\\mu_3 = 6[s^{-1}]$. El nodo 2 representa la red Ethernet cuya tasa de servicio $\\mu_2 = 42[req/s]$ con una retroalimentación del 10% modelando la tasa de fallos.  La tasa media de reflexión de los clientes (Nodo 1) es $\\mu_1 = 1[s^{-1}]$ \n",
    "\n",
    "Modele este sistema como una red de colas cerradas en que suponemos tiempos de servicio exponencial en cada nodo y las siguientes probabilidades de ruteo:\n",
    "\n",
    "$$q_{12} = 1 \\qquad q_{32}=1 $$\n",
    "\n",
    "$$q_{21} = 0.4 \\qquad q_{22}= 0.1 \\qquad q_{23} = 0.5$$\n",
    "\n",
    "**(a)** Dibuje la red de colas y el grafo asociado y resuelva las ecs. de balance de flujo.\n",
    "\n",
    "**(b)** Determine todas las medidas de desempeño de la red con alguno de los métodos que conoce. Comente sus resultados.\n",
    "\n",
    "**(c)** Suponga que el número de estaciones de trabajo (clientes) en el sistema es variable, con $k=2,11, ...30$.  Grafique el comportamiento de la tasa de proceso del sistema en función de $k$. Interprete sus resultados.\n"
   ]
  },
  {
   "cell_type": "code",
   "execution_count": null,
   "metadata": {},
   "outputs": [],
   "source": []
  }
 ],
 "metadata": {
  "kernelspec": {
   "display_name": "R",
   "language": "R",
   "name": "ir"
  },
  "language_info": {
   "codemirror_mode": "r",
   "file_extension": ".r",
   "mimetype": "text/x-r-source",
   "name": "R",
   "pygments_lexer": "r",
   "version": "3.6.1"
  }
 },
 "nbformat": 4,
 "nbformat_minor": 2
}
