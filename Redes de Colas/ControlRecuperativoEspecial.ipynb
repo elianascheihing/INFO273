{
 "cells": [
  {
   "cell_type": "markdown",
   "metadata": {},
   "source": [
    "Considere una red de colas consistente de dos pre-procesadores (Nodos 1 y 2) con tasas de servicio $\\mu_1 = 10 [t/s]$ y $\\mu_1 = 20 [t/s]$, cuya salida se encuentra conectada a un servidor central (Nodo 3) con dos procesadores cuyas tasas de servicio son de  $\\mu_3= 15[t/s]$ cada uno.\n",
    "\n",
    "Los trabajos llegan a los pre-procesadores con tasas $\\gamma_1=2 [t/s]$ y $\\gamma_2=4 [t/s]$ respectivamente. Una vez servidos en un pre-procesador pasan al servidor central o seguirá siendo pre-procesados en el otro preprocesador.\n",
    "\n",
    "La probabilidades de ruteo son:\n",
    "\n",
    "$$q_{12} = 0.6\\qquad q_{13} = 0.4\\qquad q_{30} = 1$$\n",
    "\n",
    "$$q_{21} = 0.2\\qquad q_{23} = 0.8$$\n",
    "\n",
    "**(a)** Dibuje la red de colas, el grafo asociado y las tasas de proceso de cada nodo.\n",
    "\n",
    "**(b)** Calcule la probabilidad en el equilibrio de que la red esté vacia, suponiendo que los tiempos de servicio y entre llegadas son exponenciales e independientes.\n",
    "\n",
    "**(c)** Determine todas las medidas de desempeño de la red."
   ]
  },
  {
   "cell_type": "code",
   "execution_count": null,
   "metadata": {},
   "outputs": [],
   "source": []
  }
 ],
 "metadata": {
  "celltoolbar": "Slideshow",
  "kernelspec": {
   "display_name": "R",
   "language": "R",
   "name": "ir"
  },
  "language_info": {
   "codemirror_mode": "r",
   "file_extension": ".r",
   "mimetype": "text/x-r-source",
   "name": "R",
   "pygments_lexer": "r",
   "version": "3.6.1"
  }
 },
 "nbformat": 4,
 "nbformat_minor": 2
}
